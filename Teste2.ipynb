{
  "nbformat": 4,
  "nbformat_minor": 0,
  "metadata": {
    "colab": {
      "name": "Transformação de Dados.ipynb",
      "provenance": [],
      "collapsed_sections": [],
      "mount_file_id": "1isTadl9hWnvGEehmOhm7gTqv4BmZfF_D",
      "authorship_tag": "ABX9TyPXFwSWfn2ukRwKpcGe453P",
      "include_colab_link": true
    },
    "kernelspec": {
      "name": "python3",
      "display_name": "Python 3"
    },
    "language_info": {
      "name": "python"
    }
  },
  "cells": [
    {
      "cell_type": "markdown",
      "metadata": {
        "id": "view-in-github",
        "colab_type": "text"
      },
      "source": [
        "<a href=\"https://colab.research.google.com/github/AndreMartins21/Teste_Nivelamento_IntuitiveCare/blob/main/Teste2.ipynb\" target=\"_parent\"><img src=\"https://colab.research.google.com/assets/colab-badge.svg\" alt=\"Open In Colab\"/></a>"
      ]
    },
    {
      "cell_type": "markdown",
      "metadata": {
        "id": "pDxu7bNvwMwo"
      },
      "source": [
        "# TESTE 2\n",
        "## <> ETAPAS:\n",
        "  - Extrair do pdf do teste 1 os dados dos Quadros 30,31,32 (Tabela de categoria do Padrão TISS);\n",
        "  - Salvar dados dessas tabelas em csvs;\n",
        "  - Zipar todos os csvs num arquivo \"Teste_Intuitive_Care_{seu_nome}.zip\"."
      ]
    },
    {
      "cell_type": "code",
      "metadata": {
        "colab": {
          "base_uri": "https://localhost:8080/"
        },
        "id": "oOZ84e9dv52m",
        "outputId": "174fde64-87fa-4cc4-8478-f88b5784d1fb"
      },
      "source": [
        "!pip install tabula-py"
      ],
      "execution_count": 55,
      "outputs": [
        {
          "output_type": "stream",
          "text": [
            "Requirement already satisfied: tabula-py in /usr/local/lib/python3.7/dist-packages (2.2.0)\n",
            "Requirement already satisfied: pandas>=0.25.3 in /usr/local/lib/python3.7/dist-packages (from tabula-py) (1.1.5)\n",
            "Requirement already satisfied: distro in /usr/local/lib/python3.7/dist-packages (from tabula-py) (1.5.0)\n",
            "Requirement already satisfied: numpy in /usr/local/lib/python3.7/dist-packages (from tabula-py) (1.19.5)\n",
            "Requirement already satisfied: pytz>=2017.2 in /usr/local/lib/python3.7/dist-packages (from pandas>=0.25.3->tabula-py) (2018.9)\n",
            "Requirement already satisfied: python-dateutil>=2.7.3 in /usr/local/lib/python3.7/dist-packages (from pandas>=0.25.3->tabula-py) (2.8.1)\n",
            "Requirement already satisfied: six>=1.5 in /usr/local/lib/python3.7/dist-packages (from python-dateutil>=2.7.3->pandas>=0.25.3->tabula-py) (1.15.0)\n"
          ],
          "name": "stdout"
        }
      ]
    },
    {
      "cell_type": "code",
      "metadata": {
        "id": "sFWksMwzx0Pg"
      },
      "source": [
        "import tabula\n",
        "import pandas as pd\n",
        "import zipfile\n",
        "\n",
        "def obter_tabelas():\n",
        "  '''\n",
        "  Retornar todos os quadros 30, 31 e 32 do PDF (P.S: Esse está salvo no Github)\n",
        "  '''\n",
        "\n",
        "  pdf = \"https://github.com/AndreMartins21/Teste_Nivelamento_IntuitiveCare/blob/main/Arquivos/Padr%C3%A3o_TISS_Componente_Organizacional_202103.pdf?raw=\" \n",
        "\n",
        "  tabelas = tabula.read_pdf(pdf, pages = [79, 80, 81, 82, 83, 84, 85])\n",
        "  \n",
        "  return tabelas\n",
        "\n",
        "tabelas = obter_tabelas()"
      ],
      "execution_count": 44,
      "outputs": []
    },
    {
      "cell_type": "code",
      "metadata": {
        "colab": {
          "base_uri": "https://localhost:8080/",
          "height": 204
        },
        "id": "O4KXd-CB4kow",
        "outputId": "b4a0cd1c-fdf3-40ed-f2ec-7c5fc7736de9"
      },
      "source": [
        "def quadro_30():\n",
        "  '''\n",
        "  Configurando o dataframe n° 30 para converter em csv\n",
        "  '''\n",
        "\n",
        "  df_30 = tabelas[0]\n",
        "  \n",
        "  # SE 1° VEZ RODANDO..\n",
        "  if df_30.columns[0] == \"Tabela de Tipo do Demandante\":\n",
        "\n",
        "    df_30[\"Código\"] = list(range(6))\n",
        "    df_30.drop(0, axis = 0, inplace = True) # Dropando a 1° linha\n",
        "    df_30.rename(columns = {\"Tabela de Tipo do Demandante\": \"Descrição da Categoria\"}, inplace = True) # Renomeando 2° coluna\n",
        "    df_30[\"Descrição da Categoria\"] = df_30[\"Descrição da Categoria\"].apply(lambda x: x[1:]) # Editando os valores da 2° coluna\n",
        "  \n",
        "  return df_30\n",
        "\n",
        "quadro_30()"
      ],
      "execution_count": 45,
      "outputs": [
        {
          "output_type": "execute_result",
          "data": {
            "text/html": [
              "<div>\n",
              "<style scoped>\n",
              "    .dataframe tbody tr th:only-of-type {\n",
              "        vertical-align: middle;\n",
              "    }\n",
              "\n",
              "    .dataframe tbody tr th {\n",
              "        vertical-align: top;\n",
              "    }\n",
              "\n",
              "    .dataframe thead th {\n",
              "        text-align: right;\n",
              "    }\n",
              "</style>\n",
              "<table border=\"1\" class=\"dataframe\">\n",
              "  <thead>\n",
              "    <tr style=\"text-align: right;\">\n",
              "      <th></th>\n",
              "      <th>Descrição da Categoria</th>\n",
              "      <th>Código</th>\n",
              "    </tr>\n",
              "  </thead>\n",
              "  <tbody>\n",
              "    <tr>\n",
              "      <th>1</th>\n",
              "      <td>Operadora</td>\n",
              "      <td>1</td>\n",
              "    </tr>\n",
              "    <tr>\n",
              "      <th>2</th>\n",
              "      <td>Prestador de serviço</td>\n",
              "      <td>2</td>\n",
              "    </tr>\n",
              "    <tr>\n",
              "      <th>3</th>\n",
              "      <td>Consumidor</td>\n",
              "      <td>3</td>\n",
              "    </tr>\n",
              "    <tr>\n",
              "      <th>4</th>\n",
              "      <td>Gestor</td>\n",
              "      <td>4</td>\n",
              "    </tr>\n",
              "    <tr>\n",
              "      <th>5</th>\n",
              "      <td>ANS</td>\n",
              "      <td>5</td>\n",
              "    </tr>\n",
              "  </tbody>\n",
              "</table>\n",
              "</div>"
            ],
            "text/plain": [
              "  Descrição da Categoria  Código\n",
              "1              Operadora       1\n",
              "2   Prestador de serviço       2\n",
              "3             Consumidor       3\n",
              "4                 Gestor       4\n",
              "5                    ANS       5"
            ]
          },
          "metadata": {
            "tags": []
          },
          "execution_count": 45
        }
      ]
    },
    {
      "cell_type": "code",
      "metadata": {
        "colab": {
          "base_uri": "https://localhost:8080/",
          "height": 204
        },
        "id": "6S5IVWEIt2Oq",
        "outputId": "5389a44f-8e78-4bbf-943d-f28942a1ae11"
      },
      "source": [
        "# Tabelas[1:7] representam todos as tabelas que formam o quadro 31\n",
        "\n",
        "tabelas[6].tail()"
      ],
      "execution_count": 46,
      "outputs": [
        {
          "output_type": "execute_result",
          "data": {
            "text/html": [
              "<div>\n",
              "<style scoped>\n",
              "    .dataframe tbody tr th:only-of-type {\n",
              "        vertical-align: middle;\n",
              "    }\n",
              "\n",
              "    .dataframe tbody tr th {\n",
              "        vertical-align: top;\n",
              "    }\n",
              "\n",
              "    .dataframe thead th {\n",
              "        text-align: right;\n",
              "    }\n",
              "</style>\n",
              "<table border=\"1\" class=\"dataframe\">\n",
              "  <thead>\n",
              "    <tr style=\"text-align: right;\">\n",
              "      <th></th>\n",
              "      <th>146</th>\n",
              "      <th>Mensagem de comunicação de internação ou alta do beneficiário\\r(comunicacaoInternacao)</th>\n",
              "    </tr>\n",
              "  </thead>\n",
              "  <tbody>\n",
              "    <tr>\n",
              "      <th>17</th>\n",
              "      <td>164</td>\n",
              "      <td>Guia de resumo de internação</td>\n",
              "    </tr>\n",
              "    <tr>\n",
              "      <th>18</th>\n",
              "      <td>165</td>\n",
              "      <td>Guia de serviços profissionais/serviço auxilia...</td>\n",
              "    </tr>\n",
              "    <tr>\n",
              "      <th>19</th>\n",
              "      <td>166</td>\n",
              "      <td>Guia de solicitação de internação</td>\n",
              "    </tr>\n",
              "    <tr>\n",
              "      <th>20</th>\n",
              "      <td>167</td>\n",
              "      <td>Guia de solicitação de prorrogação de internaç...</td>\n",
              "    </tr>\n",
              "    <tr>\n",
              "      <th>21</th>\n",
              "      <td>168</td>\n",
              "      <td>Guia de tratamento odontológico</td>\n",
              "    </tr>\n",
              "  </tbody>\n",
              "</table>\n",
              "</div>"
            ],
            "text/plain": [
              "    146 Mensagem de comunicação de internação ou alta do beneficiário\\r(comunicacaoInternacao)\n",
              "17  164                       Guia de resumo de internação                                    \n",
              "18  165  Guia de serviços profissionais/serviço auxilia...                                    \n",
              "19  166                  Guia de solicitação de internação                                    \n",
              "20  167  Guia de solicitação de prorrogação de internaç...                                    \n",
              "21  168                    Guia de tratamento odontológico                                    "
            ]
          },
          "metadata": {
            "tags": []
          },
          "execution_count": 46
        }
      ]
    },
    {
      "cell_type": "markdown",
      "metadata": {
        "id": "dmtGwYetZQ2r"
      },
      "source": [
        "Pode-se perceber acima que as colunas do DF eram para ser, na realidade, linhas. Logo, para resolver esse impasse, utilizei da seguinte estratégia:\n"
      ]
    },
    {
      "cell_type": "code",
      "metadata": {
        "colab": {
          "base_uri": "https://localhost:8080/",
          "height": 204
        },
        "id": "dFxlBvZDUqjj",
        "outputId": "6bc734ec-fe70-477a-ce77-4c0aca30148f"
      },
      "source": [
        "def organizar_31(i=1):\n",
        "  line_col = list(tabelas[i].columns) # Salvar o nome atual das colunas\n",
        "  col = [\"Código\", \"Descrição da Categoria\"] \n",
        "  \n",
        "  # Se as colunas já estiverem no padrão, retornar o df normal\n",
        "  if line_col == col: \n",
        "    return tabelas[i]\n",
        "  \n",
        "  df_col = pd.DataFrame({\n",
        "      col[0]: [line_col[0]],\n",
        "      col[1]: [line_col[1]]\n",
        "  })\n",
        "\n",
        "  tabelas[i].rename(columns={line_col[0]: col[0], line_col[1]: col[1]}, inplace = True) # Renomeando as colunas\n",
        "\n",
        "  # O 1° quadro apresenta colunas diferentes do restante\n",
        "  if i != 1:\n",
        "    tabelas[i] = pd.concat([df_col, tabelas[i]], ignore_index = True)  \n",
        "  # Remover a linha 0\n",
        "  if tabelas[i][0:1].values.any():\n",
        "    tabelas[i].drop(0, axis = 0, inplace = True)\n",
        "  return tabelas[i]\n",
        "\n",
        "organizar_31(i=6).tail()"
      ],
      "execution_count": 47,
      "outputs": [
        {
          "output_type": "execute_result",
          "data": {
            "text/html": [
              "<div>\n",
              "<style scoped>\n",
              "    .dataframe tbody tr th:only-of-type {\n",
              "        vertical-align: middle;\n",
              "    }\n",
              "\n",
              "    .dataframe tbody tr th {\n",
              "        vertical-align: top;\n",
              "    }\n",
              "\n",
              "    .dataframe thead th {\n",
              "        text-align: right;\n",
              "    }\n",
              "</style>\n",
              "<table border=\"1\" class=\"dataframe\">\n",
              "  <thead>\n",
              "    <tr style=\"text-align: right;\">\n",
              "      <th></th>\n",
              "      <th>Código</th>\n",
              "      <th>Descrição da Categoria</th>\n",
              "    </tr>\n",
              "  </thead>\n",
              "  <tbody>\n",
              "    <tr>\n",
              "      <th>18</th>\n",
              "      <td>164</td>\n",
              "      <td>Guia de resumo de internação</td>\n",
              "    </tr>\n",
              "    <tr>\n",
              "      <th>19</th>\n",
              "      <td>165</td>\n",
              "      <td>Guia de serviços profissionais/serviço auxilia...</td>\n",
              "    </tr>\n",
              "    <tr>\n",
              "      <th>20</th>\n",
              "      <td>166</td>\n",
              "      <td>Guia de solicitação de internação</td>\n",
              "    </tr>\n",
              "    <tr>\n",
              "      <th>21</th>\n",
              "      <td>167</td>\n",
              "      <td>Guia de solicitação de prorrogação de internaç...</td>\n",
              "    </tr>\n",
              "    <tr>\n",
              "      <th>22</th>\n",
              "      <td>168</td>\n",
              "      <td>Guia de tratamento odontológico</td>\n",
              "    </tr>\n",
              "  </tbody>\n",
              "</table>\n",
              "</div>"
            ],
            "text/plain": [
              "   Código                             Descrição da Categoria\n",
              "18    164                       Guia de resumo de internação\n",
              "19    165  Guia de serviços profissionais/serviço auxilia...\n",
              "20    166                  Guia de solicitação de internação\n",
              "21    167  Guia de solicitação de prorrogação de internaç...\n",
              "22    168                    Guia de tratamento odontológico"
            ]
          },
          "metadata": {
            "tags": []
          },
          "execution_count": 47
        }
      ]
    },
    {
      "cell_type": "code",
      "metadata": {
        "id": "MLsTiKVlXIDd"
      },
      "source": [
        "##################\n",
        "\n",
        "for i in range(2, 7):\n",
        "    df = organizar_31(i)\n",
        "    df_31 = pd.concat([df_31, df], ignore_index = True) # Concatenar todos os quadros em um só dataframe"
      ],
      "execution_count": null,
      "outputs": []
    },
    {
      "cell_type": "code",
      "metadata": {
        "colab": {
          "base_uri": "https://localhost:8080/",
          "height": 419
        },
        "id": "6Y12h7psfjAj",
        "outputId": "9e754841-e694-4943-ea46-a5f92c0738bb"
      },
      "source": [
        "def quadro_31():\n",
        "  '''\n",
        "  Função responsável por montar o df 31, mesclando todos os quadros\n",
        "  '''\n",
        "\n",
        "  df_31 = pd.concat([organizar_31(i) for i in range(1, 7)], ignore_index = True) # Concatenar todos os quadros 31 \n",
        "  \n",
        "  df_31[\"Descrição da Categoria\"] = df_31[\"Descrição da Categoria\"].str.replace(\"\\r\", \" \")\n",
        "  \n",
        "  return df_31\n",
        "\n",
        "quadro_31()"
      ],
      "execution_count": 51,
      "outputs": [
        {
          "output_type": "execute_result",
          "data": {
            "text/html": [
              "<div>\n",
              "<style scoped>\n",
              "    .dataframe tbody tr th:only-of-type {\n",
              "        vertical-align: middle;\n",
              "    }\n",
              "\n",
              "    .dataframe tbody tr th {\n",
              "        vertical-align: top;\n",
              "    }\n",
              "\n",
              "    .dataframe thead th {\n",
              "        text-align: right;\n",
              "    }\n",
              "</style>\n",
              "<table border=\"1\" class=\"dataframe\">\n",
              "  <thead>\n",
              "    <tr style=\"text-align: right;\">\n",
              "      <th></th>\n",
              "      <th>Código</th>\n",
              "      <th>Descrição da Categoria</th>\n",
              "    </tr>\n",
              "  </thead>\n",
              "  <tbody>\n",
              "    <tr>\n",
              "      <th>0</th>\n",
              "      <td>1</td>\n",
              "      <td>Componente Organizacional</td>\n",
              "    </tr>\n",
              "    <tr>\n",
              "      <th>1</th>\n",
              "      <td>2</td>\n",
              "      <td>Componente de Conteúdo e Estrutura</td>\n",
              "    </tr>\n",
              "    <tr>\n",
              "      <th>2</th>\n",
              "      <td>3</td>\n",
              "      <td>Componente de Representação de Conceitos em Saúde</td>\n",
              "    </tr>\n",
              "    <tr>\n",
              "      <th>3</th>\n",
              "      <td>5</td>\n",
              "      <td>Componente de Segurança e Privacidade</td>\n",
              "    </tr>\n",
              "    <tr>\n",
              "      <th>4</th>\n",
              "      <td>18</td>\n",
              "      <td>Terminologia de diárias, taxas e gases medicinais</td>\n",
              "    </tr>\n",
              "    <tr>\n",
              "      <th>...</th>\n",
              "      <td>...</td>\n",
              "      <td>...</td>\n",
              "    </tr>\n",
              "    <tr>\n",
              "      <th>121</th>\n",
              "      <td>164</td>\n",
              "      <td>Guia de resumo de internação</td>\n",
              "    </tr>\n",
              "    <tr>\n",
              "      <th>122</th>\n",
              "      <td>165</td>\n",
              "      <td>Guia de serviços profissionais/serviço auxilia...</td>\n",
              "    </tr>\n",
              "    <tr>\n",
              "      <th>123</th>\n",
              "      <td>166</td>\n",
              "      <td>Guia de solicitação de internação</td>\n",
              "    </tr>\n",
              "    <tr>\n",
              "      <th>124</th>\n",
              "      <td>167</td>\n",
              "      <td>Guia de solicitação de prorrogação de internaç...</td>\n",
              "    </tr>\n",
              "    <tr>\n",
              "      <th>125</th>\n",
              "      <td>168</td>\n",
              "      <td>Guia de tratamento odontológico</td>\n",
              "    </tr>\n",
              "  </tbody>\n",
              "</table>\n",
              "<p>126 rows × 2 columns</p>\n",
              "</div>"
            ],
            "text/plain": [
              "    Código                             Descrição da Categoria\n",
              "0        1                          Componente Organizacional\n",
              "1        2                 Componente de Conteúdo e Estrutura\n",
              "2        3  Componente de Representação de Conceitos em Saúde\n",
              "3        5              Componente de Segurança e Privacidade\n",
              "4       18  Terminologia de diárias, taxas e gases medicinais\n",
              "..     ...                                                ...\n",
              "121    164                       Guia de resumo de internação\n",
              "122    165  Guia de serviços profissionais/serviço auxilia...\n",
              "123    166                  Guia de solicitação de internação\n",
              "124    167  Guia de solicitação de prorrogação de internaç...\n",
              "125    168                    Guia de tratamento odontológico\n",
              "\n",
              "[126 rows x 2 columns]"
            ]
          },
          "metadata": {
            "tags": []
          },
          "execution_count": 51
        }
      ]
    },
    {
      "cell_type": "code",
      "metadata": {
        "colab": {
          "base_uri": "https://localhost:8080/",
          "height": 142
        },
        "id": "tQbGGx6YoqVa",
        "outputId": "dc1404e7-7789-459f-ef20-8f08ac20024d"
      },
      "source": [
        "def quadro_32():\n",
        "  '''\n",
        "  Função que irá organizar o df 32\n",
        "  '''\n",
        "  df_32 = tabelas[7]\n",
        "\n",
        "  # SE 1° VEZ RODANDO..\n",
        "  if df_32.columns[0] == \"Tabela de Tipo de Solicitação\":\n",
        "    df_32[\"Código\"] = list(range(4))\n",
        "    \n",
        "    df_32.rename(columns= {\"Tabela de Tipo de Solicitação\": \"Descrição da Categoria\"}, inplace= True) # Renomeando as colunas\n",
        "    df_32.drop(0, axis = 0, inplace = True)\n",
        "    df_32[\"Descrição da Categoria\"] = df_32[\"Descrição da Categoria\"].apply(lambda x: x[1:])\n",
        "    \n",
        "  return df_32[[\"Código\", \"Descrição da Categoria\"]]\n",
        "\n",
        "quadro_32()"
      ],
      "execution_count": 52,
      "outputs": [
        {
          "output_type": "execute_result",
          "data": {
            "text/html": [
              "<div>\n",
              "<style scoped>\n",
              "    .dataframe tbody tr th:only-of-type {\n",
              "        vertical-align: middle;\n",
              "    }\n",
              "\n",
              "    .dataframe tbody tr th {\n",
              "        vertical-align: top;\n",
              "    }\n",
              "\n",
              "    .dataframe thead th {\n",
              "        text-align: right;\n",
              "    }\n",
              "</style>\n",
              "<table border=\"1\" class=\"dataframe\">\n",
              "  <thead>\n",
              "    <tr style=\"text-align: right;\">\n",
              "      <th></th>\n",
              "      <th>Código</th>\n",
              "      <th>Descrição da Categoria</th>\n",
              "    </tr>\n",
              "  </thead>\n",
              "  <tbody>\n",
              "    <tr>\n",
              "      <th>1</th>\n",
              "      <td>1</td>\n",
              "      <td>Alteração</td>\n",
              "    </tr>\n",
              "    <tr>\n",
              "      <th>2</th>\n",
              "      <td>2</td>\n",
              "      <td>Inclusão</td>\n",
              "    </tr>\n",
              "    <tr>\n",
              "      <th>3</th>\n",
              "      <td>3</td>\n",
              "      <td>Exclusão</td>\n",
              "    </tr>\n",
              "  </tbody>\n",
              "</table>\n",
              "</div>"
            ],
            "text/plain": [
              "   Código Descrição da Categoria\n",
              "1       1              Alteração\n",
              "2       2               Inclusão\n",
              "3       3               Exclusão"
            ]
          },
          "metadata": {
            "tags": []
          },
          "execution_count": 52
        }
      ]
    },
    {
      "cell_type": "markdown",
      "metadata": {
        "id": "fb4rUPxmsJp5"
      },
      "source": [
        "**SALVANDO TODOS DATA_FRAMES EM CSV E ZIPANDO**"
      ]
    },
    {
      "cell_type": "code",
      "metadata": {
        "colab": {
          "base_uri": "https://localhost:8080/"
        },
        "id": "a08vX9YWsH0h",
        "outputId": "79139b8f-a6aa-4e12-ced9-f89b9a969d0e"
      },
      "source": [
        "dfs = [quadro_30(), quadro_31(), quadro_32()]\n",
        "for cont in range(3):\n",
        "  dfs[cont].to_csv(f\"Quadro3{cont}.csv\", encoding = \"utf-8\")\n",
        "  print(f\"O quadro 3{cont} foi convertido em CSV com sucesso!\")"
      ],
      "execution_count": 53,
      "outputs": [
        {
          "output_type": "stream",
          "text": [
            "O quadro 30 foi convertido em CSV com sucesso!\n",
            "O quadro 31 foi convertido em CSV com sucesso!\n",
            "O quadro 32 foi convertido em CSV com sucesso!\n"
          ],
          "name": "stdout"
        }
      ]
    },
    {
      "cell_type": "code",
      "metadata": {
        "id": "dFPlyegmtSF6",
        "colab": {
          "base_uri": "https://localhost:8080/",
          "height": 35
        },
        "outputId": "39b138b8-0f97-49a0-e87b-f0f545642110"
      },
      "source": [
        "def zipar():\n",
        "  nome = \"Teste_Intuitive_Care_Andre_Martins.zip\"\n",
        "  z = zipfile.ZipFile(nome, 'w', zipfile.ZIP_DEFLATED)\n",
        "  for i in range(3):\n",
        "    z.write(f'Quadro3{i}.csv')\n",
        "  z.close()\n",
        "  return \"CSV's zipados com êxito!\"\n",
        "zipar()"
      ],
      "execution_count": 54,
      "outputs": [
        {
          "output_type": "execute_result",
          "data": {
            "application/vnd.google.colaboratory.intrinsic+json": {
              "type": "string"
            },
            "text/plain": [
              "\"CSV's zipados com êxito!\""
            ]
          },
          "metadata": {
            "tags": []
          },
          "execution_count": 54
        }
      ]
    }
  ]
}