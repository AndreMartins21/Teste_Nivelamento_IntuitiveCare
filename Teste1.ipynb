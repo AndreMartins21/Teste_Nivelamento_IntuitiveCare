{
  "nbformat": 4,
  "nbformat_minor": 0,
  "metadata": {
    "colab": {
      "name": "WebScrapping.ipynb",
      "provenance": [],
      "collapsed_sections": [],
      "authorship_tag": "ABX9TyM/J6/hkQPlY7YmYR1Ied4j",
      "include_colab_link": true
    },
    "kernelspec": {
      "name": "python3",
      "display_name": "Python 3"
    }
  },
  "cells": [
    {
      "cell_type": "markdown",
      "metadata": {
        "id": "view-in-github",
        "colab_type": "text"
      },
      "source": [
        "<a href=\"https://colab.research.google.com/github/AndreMartins21/Teste_Nivelamento_IntuitiveCare/blob/main/Teste1.ipynb\" target=\"_parent\"><img src=\"https://colab.research.google.com/assets/colab-badge.svg\" alt=\"Open In Colab\"/></a>"
      ]
    },
    {
      "cell_type": "markdown",
      "metadata": {
        "id": "9TR9oWSCoWuD"
      },
      "source": [
        "# TESTE 1\n",
        "##<> Etapas:\n",
        "- 1.1 - Acessar o site: http://www.ans.gov.br/prestadores/tiss-troca-de-informacao-de-saude-suplementar;\n",
        "- 1.2 - Buscar a versão mais recente do Padrão TISS (arquivo - padrao_tiss_componente_organizacional_201902.pdf);\n",
        "- 1.3 - Baixar o componente organizacional; "
      ]
    },
    {
      "cell_type": "code",
      "metadata": {
        "colab": {
          "base_uri": "https://localhost:8080/"
        },
        "id": "RXRKHuUAWHen",
        "outputId": "df917589-b36b-4818-e320-a5ea9d4df10e"
      },
      "source": [
        "!pip install bs4"
      ],
      "execution_count": 7,
      "outputs": [
        {
          "output_type": "stream",
          "text": [
            "Requirement already satisfied: bs4 in /usr/local/lib/python3.7/dist-packages (0.0.1)\n",
            "Requirement already satisfied: beautifulsoup4 in /usr/local/lib/python3.7/dist-packages (from bs4) (4.6.3)\n"
          ],
          "name": "stdout"
        }
      ]
    },
    {
      "cell_type": "code",
      "metadata": {
        "id": "ZsVdNKzDw0Ih",
        "colab": {
          "base_uri": "https://localhost:8080/",
          "height": 120
        },
        "outputId": "a42c255c-aa16-4837-a84e-f1e01a354545"
      },
      "source": [
        "import requests\n",
        "from bs4 import BeautifulSoup\n",
        "from time import sleep\n",
        "\n",
        "def ler_site(alert = False):\n",
        "  '''\n",
        "  Função para salvar os dados HTML do site principal\n",
        "  '''\n",
        "\n",
        "  url =  \"http://www.ans.gov.br/prestadores/tiss-troca-de-informacao-de-saude-suplementar\"\n",
        "  req_site = requests.get(url).text\n",
        "  soup = BeautifulSoup(req_site, \"html\")\n",
        "  if alert: print(\"- Ler site: OK\") \n",
        "\n",
        "  return soup\n",
        "\n",
        "\n",
        "def obter_link_page(alert = False):\n",
        "  '''\n",
        "  Função para a obtenção do link correspondente à página com o Padrão Tiss mais recente\n",
        "  '''\n",
        "  soup = ler_site (alert)\n",
        "\n",
        "  # Inspecionando o site, percebe-se que o padrão TISS mais atual se encontra na tag <li>, de classe \"item-2939\"\n",
        "  conteudo_link = soup.find('li', class_ = \"item-2939\").a[\"href\"] \n",
        "\n",
        "  link_page = \"http://www.ans.gov.br\" + conteudo_link\n",
        "  if alert: print(\"- Obter Link do TISS atual: OK\")\n",
        "\n",
        "  return link_page\n",
        "\n",
        "\n",
        "def obter_link_pdf(alert = False):\n",
        "  '''\n",
        "  Função específica para retornar o link do PDF com o Padrão TISS recente\n",
        "  '''\n",
        "\n",
        "  link_page = obter_link_page(alert)\n",
        "\n",
        "  req_page = requests.get(link_page).text\n",
        "  soup = BeautifulSoup(req_page, \"html\")\n",
        "\n",
        "  conteudo = soup.find(\"div\", class_ = \"table-responsive\").a[\"href\"]\n",
        "\n",
        "  link_pdf = \"http://www.ans.gov.br\" + conteudo\n",
        "  if alert: print(\"- Obter link do PDF: OK\")\n",
        "  return link_pdf\n",
        "\n",
        "def download_pdf(alert = False):\n",
        "\n",
        "  link_pdf = obter_link_pdf(alert)\n",
        "  req_pdf = requests.get(link_pdf, stream = True).content\n",
        "\n",
        "  pdf = link_pdf.split('/')[-1]\n",
        "\n",
        "  with open(pdf, \"wb\") as file:\n",
        "    file.write(req_pdf)\n",
        "\n",
        "  if alert: print(\"------------------------------------\\n\")\n",
        "  return f\"<{pdf}> baixado com sucesso!\"\n",
        "\n",
        "download_pdf(alert=True)"
      ],
      "execution_count": 8,
      "outputs": [
        {
          "output_type": "stream",
          "text": [
            "- Ler site: OK\n",
            "- Obter Link do TISS atual: OK\n",
            "- Obter link do PDF: OK\n",
            "------------------------------------\n",
            "\n"
          ],
          "name": "stdout"
        },
        {
          "output_type": "execute_result",
          "data": {
            "application/vnd.google.colaboratory.intrinsic+json": {
              "type": "string"
            },
            "text/plain": [
              "'<Padrão_TISS_Componente_Organizacional_202103.pdf> baixado com sucesso!'"
            ]
          },
          "metadata": {
            "tags": []
          },
          "execution_count": 8
        }
      ]
    }
  ]
}